{
 "cells": [
  {
   "cell_type": "code",
   "execution_count": 1,
   "id": "ddd9adb8-d10f-4e16-8b1b-71af8aad3665",
   "metadata": {},
   "outputs": [],
   "source": [
    "import numpy as np"
   ]
  },
  {
   "cell_type": "code",
   "execution_count": 2,
   "id": "a130a28a-6f47-417c-856a-42104e65f497",
   "metadata": {},
   "outputs": [],
   "source": [
    "v =  np.array([1,-1,2])"
   ]
  },
  {
   "cell_type": "code",
   "execution_count": 3,
   "id": "acd29179-6434-4ad3-97fe-1b0bfe5e12bf",
   "metadata": {},
   "outputs": [],
   "source": [
    "w = np.array([2,5,2])"
   ]
  },
  {
   "cell_type": "code",
   "execution_count": 4,
   "id": "fc16ac9b-1298-431f-9f1b-98eb3fee7930",
   "metadata": {},
   "outputs": [
    {
     "name": "stdout",
     "output_type": "stream",
     "text": [
      "[3 4 4]\n"
     ]
    }
   ],
   "source": [
    "print(v+w)"
   ]
  },
  {
   "cell_type": "code",
   "execution_count": 5,
   "id": "78d5d9c2-fbfd-430d-b1de-157e52873b61",
   "metadata": {},
   "outputs": [
    {
     "name": "stdout",
     "output_type": "stream",
     "text": [
      "[-1 -6  0]\n"
     ]
    }
   ],
   "source": [
    "print(v-w)"
   ]
  },
  {
   "cell_type": "code",
   "execution_count": 7,
   "id": "86a25f27-980d-439c-99c6-2c6ae9a8fabc",
   "metadata": {},
   "outputs": [
    {
     "name": "stdout",
     "output_type": "stream",
     "text": [
      "[ 3 -3  6]\n"
     ]
    }
   ],
   "source": [
    "#Scalar Multiplication\n",
    "print(3*v)"
   ]
  },
  {
   "cell_type": "code",
   "execution_count": 8,
   "id": "433db72c-7cd1-49b0-b422-00194d07b404",
   "metadata": {},
   "outputs": [
    {
     "name": "stdout",
     "output_type": "stream",
     "text": [
      "2.449489742783178\n"
     ]
    }
   ],
   "source": [
    "print(np.linalg.norm(v))"
   ]
  },
  {
   "cell_type": "code",
   "execution_count": 9,
   "id": "5c47f6a8-571d-4518-b01c-b6e4cd3db048",
   "metadata": {},
   "outputs": [],
   "source": [
    "s = np.dot(v,w)"
   ]
  },
  {
   "cell_type": "code",
   "execution_count": 10,
   "id": "d767e76c-09f7-4b91-b9db-fd45e82c28dd",
   "metadata": {},
   "outputs": [
    {
     "data": {
      "text/plain": [
       "np.int64(1)"
      ]
     },
     "execution_count": 10,
     "metadata": {},
     "output_type": "execute_result"
    }
   ],
   "source": [
    "s"
   ]
  },
  {
   "cell_type": "code",
   "execution_count": null,
   "id": "dd29a99c-024f-423a-8131-a9c9826a6c7a",
   "metadata": {},
   "outputs": [],
   "source": []
  }
 ],
 "metadata": {
  "kernelspec": {
   "display_name": "Python 3 (ipykernel)",
   "language": "python",
   "name": "python3"
  },
  "language_info": {
   "codemirror_mode": {
    "name": "ipython",
    "version": 3
   },
   "file_extension": ".py",
   "mimetype": "text/x-python",
   "name": "python",
   "nbconvert_exporter": "python",
   "pygments_lexer": "ipython3",
   "version": "3.9.6"
  }
 },
 "nbformat": 4,
 "nbformat_minor": 5
}
