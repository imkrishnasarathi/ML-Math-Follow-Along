{
 "cells": [
  {
   "cell_type": "code",
   "execution_count": 1,
   "id": "91a90c33-136c-4be6-a47c-ae0b4b0e3cd3",
   "metadata": {},
   "outputs": [],
   "source": [
    "import numpy as np\n",
    "P = np.array([[1,7],[2,1],[3,2]])"
   ]
  },
  {
   "cell_type": "code",
   "execution_count": 2,
   "id": "b8a2ec1f-7318-4cfd-95f6-bbc65d39a673",
   "metadata": {},
   "outputs": [
    {
     "name": "stdout",
     "output_type": "stream",
     "text": [
      "[[1 7]\n",
      " [2 1]\n",
      " [3 2]]\n"
     ]
    }
   ],
   "source": [
    "print(P)"
   ]
  },
  {
   "cell_type": "code",
   "execution_count": 3,
   "id": "8b46c606-a1ef-440f-9595-2c1e7084d6ef",
   "metadata": {},
   "outputs": [],
   "source": [
    "Q = np.array([[1,1],[1,-1], [1,0]])"
   ]
  },
  {
   "cell_type": "code",
   "execution_count": 5,
   "id": "d751d0aa-5b39-4bf4-af18-54d84edde091",
   "metadata": {},
   "outputs": [
    {
     "name": "stdout",
     "output_type": "stream",
     "text": [
      "[[2 8]\n",
      " [3 0]\n",
      " [4 2]]\n"
     ]
    }
   ],
   "source": [
    "C1 = np.add(P, Q)\n",
    "print(C1)"
   ]
  },
  {
   "cell_type": "code",
   "execution_count": 6,
   "id": "6ff62f1f-6c49-4229-a981-910717f38914",
   "metadata": {},
   "outputs": [],
   "source": [
    "R = np.array([[1,3,1],[1,0,1]])"
   ]
  },
  {
   "cell_type": "code",
   "execution_count": 7,
   "id": "a70f1a0d-ce08-406b-926c-98108a5006b2",
   "metadata": {},
   "outputs": [
    {
     "name": "stdout",
     "output_type": "stream",
     "text": [
      "[[8 3 8]\n",
      " [3 6 3]\n",
      " [5 9 5]]\n"
     ]
    }
   ],
   "source": [
    "C2 = np.dot(P,R)\n",
    "print(C2)"
   ]
  },
  {
   "cell_type": "code",
   "execution_count": 8,
   "id": "b9572df6-a675-4d94-a002-9c806f0fd496",
   "metadata": {},
   "outputs": [],
   "source": [
    "det=np.linalg.det(C2)"
   ]
  },
  {
   "cell_type": "code",
   "execution_count": 9,
   "id": "0c17adc5-5d0c-460d-9c0d-782475c4c1ec",
   "metadata": {},
   "outputs": [
    {
     "name": "stdout",
     "output_type": "stream",
     "text": [
      "0.0\n"
     ]
    }
   ],
   "source": [
    "print(det)"
   ]
  },
  {
   "cell_type": "code",
   "execution_count": 10,
   "id": "fac74af8-42f4-4e65-8beb-f7d08304fef4",
   "metadata": {},
   "outputs": [],
   "source": [
    "M = np.array([[1,-1], [2,3]])"
   ]
  },
  {
   "cell_type": "code",
   "execution_count": 11,
   "id": "3b4de1b1-a680-4b0b-9930-e0493f00e1c4",
   "metadata": {},
   "outputs": [
    {
     "name": "stdout",
     "output_type": "stream",
     "text": [
      "[[ 0.6  0.2]\n",
      " [-0.4  0.2]]\n"
     ]
    }
   ],
   "source": [
    "print(np.linalg.inv(M))"
   ]
  },
  {
   "cell_type": "code",
   "execution_count": null,
   "id": "4464fa9c-54d2-49a0-b905-75be0e59e1a3",
   "metadata": {},
   "outputs": [],
   "source": []
  }
 ],
 "metadata": {
  "kernelspec": {
   "display_name": "Python 3 (ipykernel)",
   "language": "python",
   "name": "python3"
  },
  "language_info": {
   "codemirror_mode": {
    "name": "ipython",
    "version": 3
   },
   "file_extension": ".py",
   "mimetype": "text/x-python",
   "name": "python",
   "nbconvert_exporter": "python",
   "pygments_lexer": "ipython3",
   "version": "3.9.6"
  }
 },
 "nbformat": 4,
 "nbformat_minor": 5
}
